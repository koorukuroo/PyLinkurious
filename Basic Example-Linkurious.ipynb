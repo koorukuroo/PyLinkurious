{
 "cells": [
  {
   "cell_type": "markdown",
   "metadata": {},
   "source": [
    "**PyNetViz(Python Network Visualization for linkurious) as nvl**\n",
    "\n",
    "    Author: Kyunghoon Kim ( kyunghoon@unist.ac.kr )\n",
    "    Date created: 10/14/2015\n",
    "    Date last modified: 10/23/2015\n",
    "    Python Version: 2.7"
   ]
  },
  {
   "cell_type": "code",
   "execution_count": 47,
   "metadata": {
    "collapsed": false
   },
   "outputs": [],
   "source": [
    "import networkx as nx\n",
    "import pynetviz.linkurious as nvl # pip install pynetviz"
   ]
  },
  {
   "cell_type": "code",
   "execution_count": 48,
   "metadata": {
    "collapsed": true
   },
   "outputs": [],
   "source": [
    "import random\n",
    "from string import Template\n",
    "from IPython.display import display, HTML\n",
    "import networkx as nx"
   ]
  },
  {
   "cell_type": "code",
   "execution_count": 49,
   "metadata": {
    "collapsed": false
   },
   "outputs": [
    {
     "data": {
      "text/html": [
       "\n",
       "  <iframe name=\"pylinkurious-iframe\"\n",
       "    src=\"http://10.28.22.228:8000/examples/basic.html\"\n",
       "    width=\"100%\"\n",
       "    height=\"525\"\n",
       "    frameborder=\"0\"\n",
       "    webkitallowfullscreen mozallowfullscreen allowfullscreen>\n",
       "  </iframe>"
      ],
      "text/plain": [
       "<IPython.core.display.HTML object>"
      ]
     },
     "metadata": {},
     "output_type": "display_data"
    }
   ],
   "source": [
    "html = \"\"\"\n",
    "  <iframe name=\"pylinkurious-iframe\"\n",
    "    src=\"http://10.28.22.228:8000/examples/basic.html\"\n",
    "    width=\"100%\"\n",
    "    height=\"525\"\n",
    "    frameborder=\"0\"\n",
    "    webkitallowfullscreen mozallowfullscreen allowfullscreen>\n",
    "  </iframe>\"\"\"\n",
    "s = Template(html).safe_substitute()\n",
    "display(HTML(s))"
   ]
  },
  {
   "cell_type": "code",
   "execution_count": 40,
   "metadata": {
    "collapsed": true
   },
   "outputs": [],
   "source": [
    "def make_iframe(src='http://10.28.22.228:8000/examples/basic.html'):\n",
    "    html = \"\"\"\n",
    "      <iframe name=\"pylinkurious-iframe\"\n",
    "        src=\"$src\"\n",
    "        width=\"100%\"\n",
    "        height=\"525\"\n",
    "        frameborder=\"0\"\n",
    "        webkitallowfullscreen mozallowfullscreen allowfullscreen>\n",
    "      </iframe>\"\"\"\n",
    "    s = Template(html).safe_substitute(src=src)\n",
    "    display(HTML(s))"
   ]
  },
  {
   "cell_type": "code",
   "execution_count": 46,
   "metadata": {
    "collapsed": false
   },
   "outputs": [
    {
     "data": {
      "text/html": [
       "\n",
       "      <iframe name=\"pylinkurious-iframe\"\n",
       "        src=\"http://10.28.22.228:8000/examples/basic.html\"\n",
       "        width=\"100%\"\n",
       "        height=\"525\"\n",
       "        frameborder=\"0\"\n",
       "        webkitallowfullscreen mozallowfullscreen allowfullscreen>\n",
       "      </iframe>"
      ],
      "text/plain": [
       "<IPython.core.display.HTML object>"
      ]
     },
     "metadata": {},
     "output_type": "display_data"
    }
   ],
   "source": [
    "make_iframe(src='http://10.28.22.228:8000/examples/basic.html')"
   ]
  },
  {
   "cell_type": "code",
   "execution_count": null,
   "metadata": {
    "collapsed": true
   },
   "outputs": [],
   "source": []
  }
 ],
 "metadata": {
  "kernelspec": {
   "display_name": "Python 2",
   "language": "python",
   "name": "python2"
  },
  "language_info": {
   "codemirror_mode": {
    "name": "ipython",
    "version": 2
   },
   "file_extension": ".py",
   "mimetype": "text/x-python",
   "name": "python",
   "nbconvert_exporter": "python",
   "pygments_lexer": "ipython2",
   "version": "2.7.10"
  }
 },
 "nbformat": 4,
 "nbformat_minor": 0
}
