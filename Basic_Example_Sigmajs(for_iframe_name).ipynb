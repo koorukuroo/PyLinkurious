{
 "cells": [
  {
   "cell_type": "markdown",
   "metadata": {},
   "source": [
    "**PyNetViz(Python Network Visualization for Sigma.js) as nvs**\n",
    "\n",
    "    Author: Kyunghoon Kim ( kyunghoon@unist.ac.kr )\n",
    "    Date created: 10/06/2015\n",
    "    Date last modified: 10/06/2015\n",
    "    Python Version: 2.7"
   ]
  },
  {
   "cell_type": "markdown",
   "metadata": {},
   "source": [
    "This is a demo for independent gexf, html file. In this case, IPython Notebook Viewer well work."
   ]
  },
  {
   "cell_type": "code",
   "execution_count": 1,
   "metadata": {
    "collapsed": false
   },
   "outputs": [],
   "source": [
    "import networkx as nx\n",
    "import pynetviz.sigmajs as nvs # pip install pynetviz"
   ]
  },
  {
   "cell_type": "markdown",
   "metadata": {},
   "source": [
    "# Basic Network Draw"
   ]
  },
  {
   "cell_type": "markdown",
   "metadata": {},
   "source": [
    "### Random layout"
   ]
  },
  {
   "cell_type": "code",
   "execution_count": 8,
   "metadata": {
    "collapsed": false
   },
   "outputs": [
    {
     "data": {
      "text/html": [
       "<iframe name=\"pylinkurious-iframe\"\n",
       "    src=\"./1.html\"\n",
       "    width=\"100%\"\n",
       "    height=\"500\"\n",
       "    frameborder=\"0\"\n",
       "    webkitallowfullscreen mozallowfullscreen allowfullscreen>\n",
       "    </iframe>"
      ],
      "text/plain": [
       "<IPython.core.display.HTML object>"
      ]
     },
     "metadata": {},
     "output_type": "display_data"
    }
   ],
   "source": [
    "G = nx.Graph()\n",
    "G.add_edges_from([(1,2),(2,3),(3,4),(5,6)])\n",
    "G.add_edge(1, 3)\n",
    "G.add_edge(1, 6)\n",
    "nvs.make_gexf(G, filename='./1.gexf')\n",
    "nvs.make_html(drawEdges='true', gexfname='./1.gexf', filename='./1.html')\n",
    "nvs.view_html(filename='./1.html')"
   ]
  },
  {
   "cell_type": "markdown",
   "metadata": {},
   "source": [
    "### Spring Layout"
   ]
  },
  {
   "cell_type": "code",
   "execution_count": 9,
   "metadata": {
    "collapsed": false,
    "scrolled": false
   },
   "outputs": [
    {
     "data": {
      "text/html": [
       "<iframe name=\"pylinkurious-iframe\"\n",
       "    src=\"./2.html\"\n",
       "    width=\"100%\"\n",
       "    height=\"500\"\n",
       "    frameborder=\"0\"\n",
       "    webkitallowfullscreen mozallowfullscreen allowfullscreen>\n",
       "    </iframe>"
      ],
      "text/plain": [
       "<IPython.core.display.HTML object>"
      ]
     },
     "metadata": {},
     "output_type": "display_data"
    }
   ],
   "source": [
    "G = nx.Graph()\n",
    "G.add_edges_from([(1,2),(2,3),(3,4),(5,6)])\n",
    "G.add_edge(1, 3)\n",
    "G.add_edge(1, 6)\n",
    "layout = nx.spring_layout(G)\n",
    "nvs.make_gexf(G, layout, filename='./2.gexf')\n",
    "nvs.make_html(drawEdges='true', gexfname='./2.gexf', filename='./2.html')\n",
    "nvs.view_html(filename='./2.html')"
   ]
  },
  {
   "cell_type": "markdown",
   "metadata": {},
   "source": [
    "# Example. Karate club"
   ]
  },
  {
   "cell_type": "code",
   "execution_count": 10,
   "metadata": {
    "collapsed": true
   },
   "outputs": [],
   "source": [
    "G = nx.karate_club_graph()"
   ]
  },
  {
   "cell_type": "markdown",
   "metadata": {},
   "source": [
    "### Network Information"
   ]
  },
  {
   "cell_type": "code",
   "execution_count": 11,
   "metadata": {
    "collapsed": false
   },
   "outputs": [
    {
     "name": "stdout",
     "output_type": "stream",
     "text": [
      "Number of Nodes :  34\n",
      "Number of Edges :  78\n",
      "Avg. Node Degree :  4.58823529412\n",
      "Avg. Path Length :  2.40819964349\n",
      "Avg. Clustering Coefficient :  0.570638478208\n"
     ]
    }
   ],
   "source": [
    "print \"Number of Nodes : \", nx.number_of_nodes(G)\n",
    "print \"Number of Edges : \", nx.number_of_edges(G)\n",
    "degreelist = list(G.degree().values())\n",
    "print \"Avg. Node Degree : \", float(sum(degreelist))/nx.number_of_nodes(G)\n",
    "try:\n",
    "    print \"Avg. Path Length : \", nx.average_shortest_path_length(G)\n",
    "except nx.NetworkXError as e:\n",
    "    print e\n",
    "print \"Avg. Clustering Coefficient : \", nx.average_clustering(G)"
   ]
  },
  {
   "cell_type": "markdown",
   "metadata": {},
   "source": [
    "### Change a height of iframe"
   ]
  },
  {
   "cell_type": "code",
   "execution_count": 12,
   "metadata": {
    "collapsed": false
   },
   "outputs": [
    {
     "data": {
      "text/html": [
       "<iframe name=\"pylinkurious-iframe\"\n",
       "    src=\"./3.html\"\n",
       "    width=\"100%\"\n",
       "    height=\"1000\"\n",
       "    frameborder=\"0\"\n",
       "    webkitallowfullscreen mozallowfullscreen allowfullscreen>\n",
       "    </iframe>"
      ],
      "text/plain": [
       "<IPython.core.display.HTML object>"
      ]
     },
     "metadata": {},
     "output_type": "display_data"
    }
   ],
   "source": [
    "layout = nx.spring_layout(G)\n",
    "nvs.make_gexf(G, layout, filename='./3.gexf')\n",
    "nvs.make_html(drawEdges='true', gexfname='./3.gexf', filename='./3.html')\n",
    "nvs.view_html(height=1000, filename='./3.html')"
   ]
  },
  {
   "cell_type": "markdown",
   "metadata": {},
   "source": [
    "### Change a layout using spectral_layout"
   ]
  },
  {
   "cell_type": "code",
   "execution_count": 13,
   "metadata": {
    "collapsed": false
   },
   "outputs": [
    {
     "data": {
      "text/html": [
       "<iframe name=\"pylinkurious-iframe\"\n",
       "    src=\"./4.html\"\n",
       "    width=\"100%\"\n",
       "    height=\"1000\"\n",
       "    frameborder=\"0\"\n",
       "    webkitallowfullscreen mozallowfullscreen allowfullscreen>\n",
       "    </iframe>"
      ],
      "text/plain": [
       "<IPython.core.display.HTML object>"
      ]
     },
     "metadata": {},
     "output_type": "display_data"
    }
   ],
   "source": [
    "layout = nx.spectral_layout(G)\n",
    "nvs.make_gexf(G, layout, filename='./4.gexf')\n",
    "nvs.make_html(drawEdges='true', gexfname='./4.gexf', filename='./4.html')\n",
    "nvs.view_html(height=1000, filename='./4.html')"
   ]
  },
  {
   "cell_type": "markdown",
   "metadata": {},
   "source": [
    "### Change a height of iframe"
   ]
  },
  {
   "cell_type": "code",
   "execution_count": 14,
   "metadata": {
    "collapsed": false
   },
   "outputs": [
    {
     "data": {
      "text/html": [
       "<iframe name=\"pylinkurious-iframe\"\n",
       "    src=\"./5.html\"\n",
       "    width=\"100%\"\n",
       "    height=\"300\"\n",
       "    frameborder=\"0\"\n",
       "    webkitallowfullscreen mozallowfullscreen allowfullscreen>\n",
       "    </iframe>"
      ],
      "text/plain": [
       "<IPython.core.display.HTML object>"
      ]
     },
     "metadata": {},
     "output_type": "display_data"
    }
   ],
   "source": [
    "nvs.make_gexf(G, layout, filename='./5.gexf')\n",
    "nvs.make_html(drawEdges='true', gexfname='./5.gexf', filename='./5.html')\n",
    "nvs.view_html(height=300, filename='./5.html')"
   ]
  },
  {
   "cell_type": "markdown",
   "metadata": {},
   "source": [
    "### Disable for edge"
   ]
  },
  {
   "cell_type": "code",
   "execution_count": 15,
   "metadata": {
    "collapsed": false
   },
   "outputs": [
    {
     "data": {
      "text/html": [
       "<iframe name=\"pylinkurious-iframe\"\n",
       "    src=\"./6.html\"\n",
       "    width=\"100%\"\n",
       "    height=\"300\"\n",
       "    frameborder=\"0\"\n",
       "    webkitallowfullscreen mozallowfullscreen allowfullscreen>\n",
       "    </iframe>"
      ],
      "text/plain": [
       "<IPython.core.display.HTML object>"
      ]
     },
     "metadata": {},
     "output_type": "display_data"
    }
   ],
   "source": [
    "nvs.make_gexf(G, layout, filename='./6.gexf')\n",
    "nvs.make_html(drawEdges='false', gexfname='./6.gexf', filename='./6.html')\n",
    "nvs.view_html(height=300, filename='./6.html')"
   ]
  },
  {
   "cell_type": "markdown",
   "metadata": {},
   "source": [
    "### Degree Centrality"
   ]
  },
  {
   "cell_type": "code",
   "execution_count": 16,
   "metadata": {
    "collapsed": false
   },
   "outputs": [
    {
     "data": {
      "text/plain": [
       "{0: 0.48484848484848486,\n",
       " 1: 0.2727272727272727,\n",
       " 2: 0.30303030303030304,\n",
       " 3: 0.18181818181818182,\n",
       " 4: 0.09090909090909091,\n",
       " 5: 0.12121212121212122,\n",
       " 6: 0.12121212121212122,\n",
       " 7: 0.12121212121212122,\n",
       " 8: 0.15151515151515152,\n",
       " 9: 0.06060606060606061,\n",
       " 10: 0.09090909090909091,\n",
       " 11: 0.030303030303030304,\n",
       " 12: 0.06060606060606061,\n",
       " 13: 0.15151515151515152,\n",
       " 14: 0.06060606060606061,\n",
       " 15: 0.06060606060606061,\n",
       " 16: 0.06060606060606061,\n",
       " 17: 0.06060606060606061,\n",
       " 18: 0.06060606060606061,\n",
       " 19: 0.09090909090909091,\n",
       " 20: 0.06060606060606061,\n",
       " 21: 0.06060606060606061,\n",
       " 22: 0.06060606060606061,\n",
       " 23: 0.15151515151515152,\n",
       " 24: 0.09090909090909091,\n",
       " 25: 0.09090909090909091,\n",
       " 26: 0.06060606060606061,\n",
       " 27: 0.12121212121212122,\n",
       " 28: 0.09090909090909091,\n",
       " 29: 0.12121212121212122,\n",
       " 30: 0.12121212121212122,\n",
       " 31: 0.18181818181818182,\n",
       " 32: 0.36363636363636365,\n",
       " 33: 0.5151515151515151}"
      ]
     },
     "execution_count": 16,
     "metadata": {},
     "output_type": "execute_result"
    }
   ],
   "source": [
    "nx.degree_centrality(G)"
   ]
  },
  {
   "cell_type": "markdown",
   "metadata": {},
   "source": [
    "### Change of a node size with degree centrality"
   ]
  },
  {
   "cell_type": "code",
   "execution_count": 17,
   "metadata": {
    "collapsed": false
   },
   "outputs": [
    {
     "data": {
      "text/html": [
       "<iframe name=\"pylinkurious-iframe\"\n",
       "    src=\"./7.html\"\n",
       "    width=\"100%\"\n",
       "    height=\"500\"\n",
       "    frameborder=\"0\"\n",
       "    webkitallowfullscreen mozallowfullscreen allowfullscreen>\n",
       "    </iframe>"
      ],
      "text/plain": [
       "<IPython.core.display.HTML object>"
      ]
     },
     "metadata": {},
     "output_type": "display_data"
    }
   ],
   "source": [
    "layout = nx.spring_layout(G)\n",
    "nvs.make_gexf(G, layout, size=nx.degree_centrality(G), filename='./7.gexf')\n",
    "nvs.make_html(drawEdges='true', gexfname='./7.gexf', filename='./7.html')\n",
    "nvs.view_html(height=500, filename='./7.html')"
   ]
  },
  {
   "cell_type": "markdown",
   "metadata": {},
   "source": [
    "### Change of a node size with betweenness centrality"
   ]
  },
  {
   "cell_type": "code",
   "execution_count": 18,
   "metadata": {
    "collapsed": false
   },
   "outputs": [
    {
     "data": {
      "text/html": [
       "<iframe name=\"pylinkurious-iframe\"\n",
       "    src=\"./8.html\"\n",
       "    width=\"100%\"\n",
       "    height=\"500\"\n",
       "    frameborder=\"0\"\n",
       "    webkitallowfullscreen mozallowfullscreen allowfullscreen>\n",
       "    </iframe>"
      ],
      "text/plain": [
       "<IPython.core.display.HTML object>"
      ]
     },
     "metadata": {},
     "output_type": "display_data"
    }
   ],
   "source": [
    "nvs.make_gexf(G, layout, size=nx.betweenness_centrality(G), filename='./8.gexf')\n",
    "nvs.make_html(drawEdges='true', gexfname='./8.gexf', filename='./8.html')\n",
    "nvs.view_html(height=500, filename='./8.html')"
   ]
  },
  {
   "cell_type": "markdown",
   "metadata": {},
   "source": [
    "### Change of a node size with closeness centrality"
   ]
  },
  {
   "cell_type": "code",
   "execution_count": 19,
   "metadata": {
    "collapsed": false
   },
   "outputs": [
    {
     "data": {
      "text/html": [
       "<iframe name=\"pylinkurious-iframe\"\n",
       "    src=\"./9.html\"\n",
       "    width=\"100%\"\n",
       "    height=\"500\"\n",
       "    frameborder=\"0\"\n",
       "    webkitallowfullscreen mozallowfullscreen allowfullscreen>\n",
       "    </iframe>"
      ],
      "text/plain": [
       "<IPython.core.display.HTML object>"
      ]
     },
     "metadata": {},
     "output_type": "display_data"
    }
   ],
   "source": [
    "nvs.make_gexf(G, layout, size=nx.closeness_centrality(G), filename='./9.gexf')\n",
    "nvs.make_html(drawEdges='true', gexfname='./9.gexf', filename='./9.html')\n",
    "nvs.view_html(height=500, filename='./9.html')"
   ]
  },
  {
   "cell_type": "markdown",
   "metadata": {},
   "source": [
    "### Change of a node size with clustering coefficient"
   ]
  },
  {
   "cell_type": "code",
   "execution_count": 20,
   "metadata": {
    "collapsed": false
   },
   "outputs": [
    {
     "data": {
      "text/html": [
       "<iframe name=\"pylinkurious-iframe\"\n",
       "    src=\"./10.html\"\n",
       "    width=\"100%\"\n",
       "    height=\"500\"\n",
       "    frameborder=\"0\"\n",
       "    webkitallowfullscreen mozallowfullscreen allowfullscreen>\n",
       "    </iframe>"
      ],
      "text/plain": [
       "<IPython.core.display.HTML object>"
      ]
     },
     "metadata": {},
     "output_type": "display_data"
    }
   ],
   "source": [
    "nvs.make_gexf(G, layout, size=nx.clustering(G), filename='./10.gexf')\n",
    "nvs.make_html(drawEdges='true', gexfname='./10.gexf', filename='./10.html')\n",
    "nvs.view_html(height=500, filename='./10.html')"
   ]
  },
  {
   "cell_type": "markdown",
   "metadata": {},
   "source": [
    "### Change of a node size * 10 with degree centrality"
   ]
  },
  {
   "cell_type": "code",
   "execution_count": 21,
   "metadata": {
    "collapsed": false
   },
   "outputs": [
    {
     "data": {
      "text/html": [
       "<iframe name=\"pylinkurious-iframe\"\n",
       "    src=\"./11.html\"\n",
       "    width=\"100%\"\n",
       "    height=\"500\"\n",
       "    frameborder=\"0\"\n",
       "    webkitallowfullscreen mozallowfullscreen allowfullscreen>\n",
       "    </iframe>"
      ],
      "text/plain": [
       "<IPython.core.display.HTML object>"
      ]
     },
     "metadata": {},
     "output_type": "display_data"
    }
   ],
   "source": [
    "nvs.make_gexf(G, layout, size=[c*10 for c in nx.degree_centrality(G)], filename='./11.gexf')\n",
    "nvs.make_html(drawEdges='true', gexfname='./11.gexf', filename='./11.html')\n",
    "nvs.view_html(height=500, filename='./11.html')"
   ]
  },
  {
   "cell_type": "code",
   "execution_count": null,
   "metadata": {
    "collapsed": true
   },
   "outputs": [],
   "source": []
  }
 ],
 "metadata": {
  "kernelspec": {
   "display_name": "Python 2",
   "language": "python",
   "name": "python2"
  },
  "language_info": {
   "codemirror_mode": {
    "name": "ipython",
    "version": 2
   },
   "file_extension": ".py",
   "mimetype": "text/x-python",
   "name": "python",
   "nbconvert_exporter": "python",
   "pygments_lexer": "ipython2",
   "version": "2.7.10"
  }
 },
 "nbformat": 4,
 "nbformat_minor": 0
}
