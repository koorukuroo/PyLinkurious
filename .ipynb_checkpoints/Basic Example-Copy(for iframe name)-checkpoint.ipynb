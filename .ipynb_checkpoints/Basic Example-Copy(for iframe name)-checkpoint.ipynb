{
 "cells": [
  {
   "cell_type": "markdown",
   "metadata": {},
   "source": [
    "**PyNetViz(Python Network Vizualization for linkurious) as nvl**\n",
    "\n",
    "    Author: Kyunghoon Kim ( kyunghoon@unist.ac.kr )\n",
    "    Date created: 10/06/2015\n",
    "    Date last modified: 10/06/2015\n",
    "    Python Version: 2.7"
   ]
  },
  {
   "cell_type": "code",
   "execution_count": 1,
   "metadata": {
    "collapsed": false
   },
   "outputs": [],
   "source": [
    "import networkx as nx\n",
    "import pynetviz.linkurious as nvl"
   ]
  },
  {
   "cell_type": "markdown",
   "metadata": {},
   "source": [
    "# Basic Network Draw"
   ]
  },
  {
   "cell_type": "markdown",
   "metadata": {},
   "source": [
    "### Random layout"
   ]
  },
  {
   "cell_type": "code",
   "execution_count": 3,
   "metadata": {
    "collapsed": false
   },
   "outputs": [
    {
     "data": {
      "text/html": [
       "<iframe name=\"pylinkurious-iframe\"\n",
       "    src=\"./1.html\"\n",
       "    width=\"100%\"\n",
       "    height=\"500\"\n",
       "    frameborder=\"0\"\n",
       "    webkitallowfullscreen mozallowfullscreen allowfullscreen>\n",
       "    </iframe>"
      ],
      "text/plain": [
       "<IPython.core.display.HTML object>"
      ]
     },
     "metadata": {},
     "output_type": "display_data"
    }
   ],
   "source": [
    "G = nx.Graph()\n",
    "G.add_edges_from([(1,2),(2,3),(3,4),(5,6)])\n",
    "G.add_edge(1, 3)\n",
    "G.add_edge(1, 6)\n",
    "nvl.make_gexf(G)\n",
    "nvl.make_html(drawEdges='true', filename='./1.html')\n",
    "nvl.view_html(filename='./1.html')"
   ]
  },
  {
   "cell_type": "markdown",
   "metadata": {},
   "source": [
    "### Spring Layout"
   ]
  },
  {
   "cell_type": "code",
   "execution_count": 4,
   "metadata": {
    "collapsed": false,
    "scrolled": false
   },
   "outputs": [
    {
     "data": {
      "text/html": [
       "<iframe name=\"pylinkurious-iframe\"\n",
       "    src=\"./2.html\"\n",
       "    width=\"100%\"\n",
       "    height=\"500\"\n",
       "    frameborder=\"0\"\n",
       "    webkitallowfullscreen mozallowfullscreen allowfullscreen>\n",
       "    </iframe>"
      ],
      "text/plain": [
       "<IPython.core.display.HTML object>"
      ]
     },
     "metadata": {},
     "output_type": "display_data"
    }
   ],
   "source": [
    "G = nx.Graph()\n",
    "G.add_edges_from([(1,2),(2,3),(3,4),(5,6)])\n",
    "G.add_edge(1, 3)\n",
    "G.add_edge(1, 6)\n",
    "layout = nx.spring_layout(G)\n",
    "nvl.make_gexf(G, layout)\n",
    "nvl.make_html(drawEdges='true', filename='./2.html')\n",
    "nvl.view_html(filename='./2.html')"
   ]
  },
  {
   "cell_type": "markdown",
   "metadata": {},
   "source": [
    "# Example. Karate club"
   ]
  },
  {
   "cell_type": "code",
   "execution_count": 6,
   "metadata": {
    "collapsed": true
   },
   "outputs": [],
   "source": [
    "G = nx.karate_club_graph()"
   ]
  },
  {
   "cell_type": "markdown",
   "metadata": {},
   "source": [
    "### Network Information"
   ]
  },
  {
   "cell_type": "code",
   "execution_count": 7,
   "metadata": {
    "collapsed": false
   },
   "outputs": [
    {
     "name": "stdout",
     "output_type": "stream",
     "text": [
      "Number of Nodes :  34\n",
      "Number of Edges :  78\n",
      "Avg. Node Degree :  4.58823529412\n",
      "Avg. Path Length :  2.40819964349\n",
      "Avg. Clustering Coefficient :  0.570638478208\n"
     ]
    }
   ],
   "source": [
    "print \"Number of Nodes : \", nx.number_of_nodes(G)\n",
    "print \"Number of Edges : \", nx.number_of_edges(G)\n",
    "degreelist = list(G.degree().values())\n",
    "print \"Avg. Node Degree : \", float(sum(degreelist))/nx.number_of_nodes(G)\n",
    "try:\n",
    "    print \"Avg. Path Length : \", nx.average_shortest_path_length(G)\n",
    "except nx.NetworkXError as e:\n",
    "    print e\n",
    "print \"Avg. Clustering Coefficient : \", nx.average_clustering(G)"
   ]
  },
  {
   "cell_type": "markdown",
   "metadata": {},
   "source": [
    "### Change a height of iframe"
   ]
  },
  {
   "cell_type": "code",
   "execution_count": 18,
   "metadata": {
    "collapsed": false
   },
   "outputs": [
    {
     "data": {
      "text/html": [
       "<iframe name=\"pylinkurious-iframe\"\n",
       "    src=\"./3.html\"\n",
       "    width=\"100%\"\n",
       "    height=\"1000\"\n",
       "    frameborder=\"0\"\n",
       "    webkitallowfullscreen mozallowfullscreen allowfullscreen>\n",
       "    </iframe>"
      ],
      "text/plain": [
       "<IPython.core.display.HTML object>"
      ]
     },
     "metadata": {},
     "output_type": "display_data"
    }
   ],
   "source": [
    "layout = nx.spring_layout(G)\n",
    "nvl.make_gexf(G, layout)\n",
    "nvl.make_html(drawEdges='true', filename='./3.html')\n",
    "nvl.view_html(height=1000, filename='./3.html')"
   ]
  },
  {
   "cell_type": "markdown",
   "metadata": {},
   "source": [
    "### Change a layout using spectral_layout"
   ]
  },
  {
   "cell_type": "code",
   "execution_count": 21,
   "metadata": {
    "collapsed": false
   },
   "outputs": [
    {
     "data": {
      "text/html": [
       "<iframe name=\"pylinkurious-iframe\"\n",
       "    src=\"./4.html\"\n",
       "    width=\"100%\"\n",
       "    height=\"1000\"\n",
       "    frameborder=\"0\"\n",
       "    webkitallowfullscreen mozallowfullscreen allowfullscreen>\n",
       "    </iframe>"
      ],
      "text/plain": [
       "<IPython.core.display.HTML object>"
      ]
     },
     "metadata": {},
     "output_type": "display_data"
    }
   ],
   "source": [
    "layout = nx.spectral_layout(G)\n",
    "nvl.make_gexf(G, layout)\n",
    "nvl.make_html(drawEdges='true', filename='./4.html')\n",
    "nvl.view_html(height=1000, filename='./4.html')"
   ]
  },
  {
   "cell_type": "markdown",
   "metadata": {},
   "source": [
    "### Change a height of iframe"
   ]
  },
  {
   "cell_type": "code",
   "execution_count": 22,
   "metadata": {
    "collapsed": false
   },
   "outputs": [
    {
     "data": {
      "text/html": [
       "<iframe name=\"pylinkurious-iframe\"\n",
       "    src=\"./5.html\"\n",
       "    width=\"100%\"\n",
       "    height=\"300\"\n",
       "    frameborder=\"0\"\n",
       "    webkitallowfullscreen mozallowfullscreen allowfullscreen>\n",
       "    </iframe>"
      ],
      "text/plain": [
       "<IPython.core.display.HTML object>"
      ]
     },
     "metadata": {},
     "output_type": "display_data"
    }
   ],
   "source": [
    "nvl.make_gexf(G, layout)\n",
    "nvl.make_html(drawEdges='true', filename='./5.html')\n",
    "nvl.view_html(height=300, filename='./5.html')"
   ]
  },
  {
   "cell_type": "markdown",
   "metadata": {},
   "source": [
    "### Disable for edge"
   ]
  },
  {
   "cell_type": "code",
   "execution_count": 23,
   "metadata": {
    "collapsed": false
   },
   "outputs": [
    {
     "data": {
      "text/html": [
       "<iframe name=\"pylinkurious-iframe\"\n",
       "    src=\"./6.html\"\n",
       "    width=\"100%\"\n",
       "    height=\"300\"\n",
       "    frameborder=\"0\"\n",
       "    webkitallowfullscreen mozallowfullscreen allowfullscreen>\n",
       "    </iframe>"
      ],
      "text/plain": [
       "<IPython.core.display.HTML object>"
      ]
     },
     "metadata": {},
     "output_type": "display_data"
    }
   ],
   "source": [
    "nvl.make_gexf(G, layout)\n",
    "nvl.make_html(drawEdges='false', filename='./6.html')\n",
    "nvl.view_html(height=300, filename='./6.html')"
   ]
  },
  {
   "cell_type": "markdown",
   "metadata": {},
   "source": [
    "### Degree Centrality"
   ]
  },
  {
   "cell_type": "code",
   "execution_count": 24,
   "metadata": {
    "collapsed": false
   },
   "outputs": [
    {
     "data": {
      "text/plain": [
       "{0: 0.48484848484848486,\n",
       " 1: 0.2727272727272727,\n",
       " 2: 0.30303030303030304,\n",
       " 3: 0.18181818181818182,\n",
       " 4: 0.09090909090909091,\n",
       " 5: 0.12121212121212122,\n",
       " 6: 0.12121212121212122,\n",
       " 7: 0.12121212121212122,\n",
       " 8: 0.15151515151515152,\n",
       " 9: 0.06060606060606061,\n",
       " 10: 0.09090909090909091,\n",
       " 11: 0.030303030303030304,\n",
       " 12: 0.06060606060606061,\n",
       " 13: 0.15151515151515152,\n",
       " 14: 0.06060606060606061,\n",
       " 15: 0.06060606060606061,\n",
       " 16: 0.06060606060606061,\n",
       " 17: 0.06060606060606061,\n",
       " 18: 0.06060606060606061,\n",
       " 19: 0.09090909090909091,\n",
       " 20: 0.06060606060606061,\n",
       " 21: 0.06060606060606061,\n",
       " 22: 0.06060606060606061,\n",
       " 23: 0.15151515151515152,\n",
       " 24: 0.09090909090909091,\n",
       " 25: 0.09090909090909091,\n",
       " 26: 0.06060606060606061,\n",
       " 27: 0.12121212121212122,\n",
       " 28: 0.09090909090909091,\n",
       " 29: 0.12121212121212122,\n",
       " 30: 0.12121212121212122,\n",
       " 31: 0.18181818181818182,\n",
       " 32: 0.36363636363636365,\n",
       " 33: 0.5151515151515151}"
      ]
     },
     "execution_count": 24,
     "metadata": {},
     "output_type": "execute_result"
    }
   ],
   "source": [
    "nx.degree_centrality(G)"
   ]
  },
  {
   "cell_type": "markdown",
   "metadata": {},
   "source": [
    "### Change of a node size with degree centrality"
   ]
  },
  {
   "cell_type": "code",
   "execution_count": 30,
   "metadata": {
    "collapsed": false
   },
   "outputs": [
    {
     "data": {
      "text/html": [
       "<iframe name=\"pylinkurious-iframe\"\n",
       "    src=\"./7.html\"\n",
       "    width=\"100%\"\n",
       "    height=\"500\"\n",
       "    frameborder=\"0\"\n",
       "    webkitallowfullscreen mozallowfullscreen allowfullscreen>\n",
       "    </iframe>"
      ],
      "text/plain": [
       "<IPython.core.display.HTML object>"
      ]
     },
     "metadata": {},
     "output_type": "display_data"
    }
   ],
   "source": [
    "layout = nx.spring_layout(G)\n",
    "nvl.make_gexf(G, layout, size=nx.degree_centrality(G))\n",
    "nvl.make_html(drawEdges='true', filename='./7.html')\n",
    "nvl.view_html(height=500, filename='./7.html')"
   ]
  },
  {
   "cell_type": "markdown",
   "metadata": {},
   "source": [
    "### Change of a node size with betweenness centrality"
   ]
  },
  {
   "cell_type": "code",
   "execution_count": 31,
   "metadata": {
    "collapsed": false
   },
   "outputs": [
    {
     "data": {
      "text/html": [
       "<iframe name=\"pylinkurious-iframe\"\n",
       "    src=\"./8.html\"\n",
       "    width=\"100%\"\n",
       "    height=\"500\"\n",
       "    frameborder=\"0\"\n",
       "    webkitallowfullscreen mozallowfullscreen allowfullscreen>\n",
       "    </iframe>"
      ],
      "text/plain": [
       "<IPython.core.display.HTML object>"
      ]
     },
     "metadata": {},
     "output_type": "display_data"
    }
   ],
   "source": [
    "nvl.make_gexf(G, layout, size=nx.betweenness_centrality(G))\n",
    "nvl.make_html(drawEdges='true', filename='./8.html')\n",
    "nvl.view_html(height=500, filename='./8.html')"
   ]
  },
  {
   "cell_type": "markdown",
   "metadata": {},
   "source": [
    "### Change of a node size with closeness centrality"
   ]
  },
  {
   "cell_type": "code",
   "execution_count": 32,
   "metadata": {
    "collapsed": false
   },
   "outputs": [
    {
     "data": {
      "text/html": [
       "<iframe name=\"pylinkurious-iframe\"\n",
       "    src=\"./9.html\"\n",
       "    width=\"100%\"\n",
       "    height=\"500\"\n",
       "    frameborder=\"0\"\n",
       "    webkitallowfullscreen mozallowfullscreen allowfullscreen>\n",
       "    </iframe>"
      ],
      "text/plain": [
       "<IPython.core.display.HTML object>"
      ]
     },
     "metadata": {},
     "output_type": "display_data"
    }
   ],
   "source": [
    "nvl.make_gexf(G, layout, size=nx.closeness_centrality(G))\n",
    "nvl.make_html(drawEdges='true', filename='./9.html')\n",
    "nvl.view_html(height=500, filename='./9.html')"
   ]
  },
  {
   "cell_type": "markdown",
   "metadata": {},
   "source": [
    "### Change of a node size with clustering coefficient"
   ]
  },
  {
   "cell_type": "code",
   "execution_count": 33,
   "metadata": {
    "collapsed": false
   },
   "outputs": [
    {
     "data": {
      "text/html": [
       "<iframe name=\"pylinkurious-iframe\"\n",
       "    src=\"./10.html\"\n",
       "    width=\"100%\"\n",
       "    height=\"500\"\n",
       "    frameborder=\"0\"\n",
       "    webkitallowfullscreen mozallowfullscreen allowfullscreen>\n",
       "    </iframe>"
      ],
      "text/plain": [
       "<IPython.core.display.HTML object>"
      ]
     },
     "metadata": {},
     "output_type": "display_data"
    }
   ],
   "source": [
    "nvl.make_gexf(G, layout, size=nx.clustering(G))\n",
    "nvl.make_html(drawEdges='true', filename='./10.html')\n",
    "nvl.view_html(height=500, filename='./10.html')"
   ]
  },
  {
   "cell_type": "markdown",
   "metadata": {},
   "source": [
    "### Change of a node size * 10 with degree centrality"
   ]
  },
  {
   "cell_type": "code",
   "execution_count": 34,
   "metadata": {
    "collapsed": false
   },
   "outputs": [
    {
     "data": {
      "text/html": [
       "<iframe name=\"pylinkurious-iframe\"\n",
       "    src=\"./11.html\"\n",
       "    width=\"100%\"\n",
       "    height=\"500\"\n",
       "    frameborder=\"0\"\n",
       "    webkitallowfullscreen mozallowfullscreen allowfullscreen>\n",
       "    </iframe>"
      ],
      "text/plain": [
       "<IPython.core.display.HTML object>"
      ]
     },
     "metadata": {},
     "output_type": "display_data"
    }
   ],
   "source": [
    "nvl.make_gexf(G, layout, size=[c*10 for c in nx.degree_centrality(G)])\n",
    "nvl.make_html(drawEdges='true', filename='./11.html')\n",
    "nvl.view_html(height=500, filename='./11.html')"
   ]
  },
  {
   "cell_type": "code",
   "execution_count": null,
   "metadata": {
    "collapsed": true
   },
   "outputs": [],
   "source": []
  }
 ],
 "metadata": {
  "kernelspec": {
   "display_name": "Python 2",
   "language": "python",
   "name": "python2"
  },
  "language_info": {
   "codemirror_mode": {
    "name": "ipython",
    "version": 2
   },
   "file_extension": ".py",
   "mimetype": "text/x-python",
   "name": "python",
   "nbconvert_exporter": "python",
   "pygments_lexer": "ipython2",
   "version": "2.7.10"
  }
 },
 "nbformat": 4,
 "nbformat_minor": 0
}
